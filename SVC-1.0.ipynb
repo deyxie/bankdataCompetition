{
 "cells": [
  {
   "cell_type": "code",
   "execution_count": 2,
   "metadata": {},
   "outputs": [],
   "source": [
    "import pandas as pd\n",
    "import numpy as np"
   ]
  },
  {
   "cell_type": "code",
   "execution_count": 3,
   "metadata": {},
   "outputs": [
    {
     "name": "stdout",
     "output_type": "stream",
     "text": [
      "(120000, 202)\n"
     ]
    }
   ],
   "source": [
    "data_raw = pd.read_csv('/Users/deyxie/Data/BankdataCompetition/Train_dataset.csv')\n",
    "print(data_raw.shape)"
   ]
  },
  {
   "cell_type": "code",
   "execution_count": 4,
   "metadata": {},
   "outputs": [
    {
     "name": "stdout",
     "output_type": "stream",
     "text": [
      "             tran_id         target         attr_0         attr_1  \\\n",
      "count  120000.000000  120000.000000  120000.000000  120000.000000   \n",
      "mean    59999.500000       0.100492      21.340142      -3.235405   \n",
      "std     34641.160489       0.300656       6.075702       8.107189   \n",
      "min         0.000000       0.000000       0.816800     -30.086800   \n",
      "25%     29999.750000       0.000000      16.892750      -9.459650   \n",
      "50%     59999.500000       0.000000      21.040300      -3.195800   \n",
      "75%     89999.250000       0.000000      25.499000       2.735200   \n",
      "max    119999.000000       1.000000      40.630000      20.753600   \n",
      "\n",
      "              attr_2         attr_3         attr_4         attr_5  \\\n",
      "count  120000.000000  120000.000000  120000.000000  120000.000000   \n",
      "mean       21.433565      13.587700      22.163565     -10.077834   \n",
      "std         5.280952       4.080745       3.253095      15.718806   \n",
      "min         4.338600       0.086000      10.149600     -59.554600   \n",
      "25%        17.442200      10.512800      19.768150     -22.322450   \n",
      "50%        21.170100      13.650300      22.214800      -9.646000   \n",
      "75%        25.033400      16.624200      24.545000       1.909050   \n",
      "max        38.706000      26.376600      33.342800      34.503200   \n",
      "\n",
      "              attr_6         attr_7  ...       attr_190       attr_191  \\\n",
      "count  120000.000000  120000.000000  ...  120000.000000  120000.000000   \n",
      "mean       10.814972      33.086335  ...       6.469801      14.893602   \n",
      "std         1.730746       6.836057  ...       9.115399       6.060080   \n",
      "min         4.694600      10.699400  ...     -28.186600      -4.686000   \n",
      "25%         9.537600      27.890950  ...      -0.115850      10.323400   \n",
      "50%        10.768400      32.897200  ...       6.394900      14.720800   \n",
      "75%        12.001050      38.202200  ...      12.814250      19.046700   \n",
      "max        16.895400      55.383600  ...      36.684600      33.369200   \n",
      "\n",
      "            attr_192       attr_193       attr_194       attr_195  \\\n",
      "count  120000.000000  120000.000000  120000.000000  120000.000000   \n",
      "mean        3.867603       6.654243      35.971342      -0.285017   \n",
      "std         2.963622       7.980716       6.286237       2.858461   \n",
      "min        -7.629000     -23.566800      17.388800     -10.309400   \n",
      "25%         1.785800       1.155900      31.239200      -2.342400   \n",
      "50%         3.818200       6.788100      35.878500      -0.337500   \n",
      "75%         5.909600      12.410250      40.797850       1.660250   \n",
      "max        16.804800      35.557600      55.857600       8.545800   \n",
      "\n",
      "            attr_196       attr_197       attr_198       attr_199  \n",
      "count  120000.000000  120000.000000  120000.000000  120000.000000  \n",
      "mean        4.582464      17.816701      31.734114      -6.692358  \n",
      "std        10.914421       1.837881       6.022548      20.891491  \n",
      "min       -27.016800      11.921200      13.289600     -77.705600  \n",
      "25%        -3.905100      16.511400      27.649100     -22.475850  \n",
      "50%         4.792700      17.776400      31.868200      -5.670100  \n",
      "75%        13.091100      19.179800      36.104450       9.652500  \n",
      "max        35.368200      24.000800      52.158200      55.068000  \n",
      "\n",
      "[8 rows x 202 columns]\n",
      "(120000, 200)\n",
      "(120000,)\n"
     ]
    }
   ],
   "source": [
    "print(data_raw.describe())\n",
    "data_raw.head()\n",
    "# 没有缺失值  范\n",
    "# 提取一下target和data id不要\n",
    "data_train = data_raw.iloc[:,2:202]\n",
    "data_target = data_raw['target']\n",
    "print(data_train.shape)\n",
    "print(data_target.shape)"
   ]
  },
  {
   "cell_type": "code",
   "execution_count": 5,
   "metadata": {},
   "outputs": [],
   "source": [
    "# 对数据进行归一化 这一步先跳过吧\n",
    "# 标准归一化\n",
    "from  sklearn.preprocessing import StandardScaler\n",
    "myStand = StandardScaler().fit(data_train)\n",
    "data_train_stand = myStand.transform(data_train)"
   ]
  },
  {
   "cell_type": "code",
   "execution_count": 6,
   "metadata": {},
   "outputs": [
    {
     "data": {
      "text/plain": [
       "(120000, 30)"
      ]
     },
     "execution_count": 6,
     "metadata": {},
     "output_type": "execute_result"
    }
   ],
   "source": [
    "# pca\n",
    "from sklearn.decomposition import PCA\n",
    "myPCA = PCA(n_components=30).fit(data_train_stand)\n",
    "data_train_stand_pca = myPCA.transform(data_train_stand)\n",
    "data_train_stand_pca.shape"
   ]
  },
  {
   "cell_type": "code",
   "execution_count": 7,
   "metadata": {},
   "outputs": [
    {
     "name": "stdout",
     "output_type": "stream",
     "text": [
      "(96000, 30)\n",
      "(24000, 30)\n",
      "(96000,)\n",
      "(24000,)\n"
     ]
    }
   ],
   "source": [
    "# 分割数据集\n",
    "from sklearn.model_selection import train_test_split\n",
    "x_train,x_test,y_train,y_test = train_test_split(data_train_stand_pca, data_target, test_size=0.2, random_state=2)\n",
    "print(x_train.shape)\n",
    "print(x_test.shape)\n",
    "print(y_train.shape)\n",
    "print(y_test.shape)"
   ]
  },
  {
   "cell_type": "code",
   "execution_count": null,
   "metadata": {},
   "outputs": [],
   "source": [
    "# model \n",
    "from sklearn.svm import SVC\n",
    "model_svc = SVC(\n",
    "    C=1.0,\n",
    "    kernel='rbf',\n",
    "    gamma='auto',\n",
    "    random_state=1234\n",
    ").fit(x_train,y_train)"
   ]
  },
  {
   "cell_type": "code",
   "execution_count": 29,
   "metadata": {},
   "outputs": [
    {
     "data": {
      "text/plain": [
       "SVC(C=1.0, cache_size=200, class_weight=None, coef0=0.0,\n",
       "    decision_function_shape='ovr', degree=3, gamma='auto', kernel='rbf',\n",
       "    max_iter=-1, probability=False, random_state=None, shrinking=True,\n",
       "    tol=0.001, verbose=False)"
      ]
     },
     "execution_count": 29,
     "metadata": {},
     "output_type": "execute_result"
    }
   ],
   "source": [
    "model_svc"
   ]
  },
  {
   "cell_type": "code",
   "execution_count": 32,
   "metadata": {},
   "outputs": [
    {
     "data": {
      "text/plain": [
       "array([0, 0, 0, ..., 0, 0, 0])"
      ]
     },
     "execution_count": 32,
     "metadata": {},
     "output_type": "execute_result"
    }
   ],
   "source": [
    "y_prediction = model_svc.predict(x_test)\n",
    "y_prediction"
   ]
  },
  {
   "cell_type": "code",
   "execution_count": 31,
   "metadata": {},
   "outputs": [],
   "source": [
    "# 评估\n",
    "from sklearn.metrics import classification_report,confusion_matrix\n",
    "from sklearn.metrics import precision_score,recall_score,f1_score"
   ]
  },
  {
   "cell_type": "code",
   "execution_count": 34,
   "metadata": {},
   "outputs": [
    {
     "name": "stdout",
     "output_type": "stream",
     "text": [
      "-------------SVC--classification_report-------------\n",
      "              precision    recall  f1-score   support\n",
      "\n",
      "           0       0.90      1.00      0.95     21593\n",
      "           1       0.81      0.02      0.05      2407\n",
      "\n",
      "    accuracy                           0.90     24000\n",
      "   macro avg       0.86      0.51      0.50     24000\n",
      "weighted avg       0.89      0.90      0.86     24000\n",
      "\n",
      "\n"
     ]
    }
   ],
   "source": [
    "print('SVC--classification_report'.center(52,'-'))#总共打印52个字符 剧中后，其他的用-填充\n",
    "print(classification_report(y_true=y_test,y_pred=y_prediction)) # support 数量\n",
    "print()"
   ]
  },
  {
   "cell_type": "code",
   "execution_count": null,
   "metadata": {},
   "outputs": [],
   "source": []
  }
 ],
 "metadata": {
  "kernelspec": {
   "display_name": "Python 3",
   "language": "python",
   "name": "python3"
  },
  "language_info": {
   "codemirror_mode": {
    "name": "ipython",
    "version": 3
   },
   "file_extension": ".py",
   "mimetype": "text/x-python",
   "name": "python",
   "nbconvert_exporter": "python",
   "pygments_lexer": "ipython3",
   "version": "3.7.4"
  }
 },
 "nbformat": 4,
 "nbformat_minor": 2
}
